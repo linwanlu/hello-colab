{
  "nbformat": 4,
  "nbformat_minor": 0,
  "metadata": {
    "colab": {
      "provenance": [],
      "authorship_tag": "ABX9TyPeyYV8r6qwRdHSo70hlJng",
      "include_colab_link": true
    },
    "kernelspec": {
      "name": "python3",
      "display_name": "Python 3"
    },
    "language_info": {
      "name": "python"
    }
  },
  "cells": [
    {
      "cell_type": "markdown",
      "metadata": {
        "id": "view-in-github",
        "colab_type": "text"
      },
      "source": [
        "<a href=\"https://colab.research.google.com/github/linwanlu/hello-colab/blob/main/Hello_Colab.ipynb\" target=\"_parent\"><img src=\"https://colab.research.google.com/assets/colab-badge.svg\" alt=\"Open In Colab\"/></a>"
      ]
    },
    {
      "cell_type": "markdown",
      "source": [
        "# 專題實作 #01：Hello Word"
      ],
      "metadata": {
        "id": "k6i_-aXF2Www"
      }
    },
    {
      "cell_type": "code",
      "source": [
        "print('Hello World!')"
      ],
      "metadata": {
        "colab": {
          "base_uri": "https://localhost:8080/"
        },
        "id": "jnS29N683Iid",
        "outputId": "0d3f2687-b68d-42e0-f638-8f09fa43ea3e"
      },
      "execution_count": null,
      "outputs": [
        {
          "output_type": "stream",
          "name": "stdout",
          "text": [
            "Hello World!\n"
          ]
        }
      ]
    },
    {
      "cell_type": "markdown",
      "source": [
        "##利用 Python 收集來自 API 的資料\n",
        "API 來源的爬蟲主要是通過網路上提供的 API 接口，從網路上獲取數據，例如從某個網站獲取股票市場行情、氣象預報等，通常是先向 API 接口發送請求，獲取 JSON 格式的數據，然後使用 json 模組對數據進行解析和處理。在今天的例子中，我們將以 Python 實現 API 來源的資料收集。若要進行 API 資料收集，可以使用 Python 中的 requests 套件向 API 伺服器發送 HTTP 請求，獲取 API 回傳的資料。以下是一個簡單的範例：\n"
      ],
      "metadata": {
        "id": "xPQb7SVl5Iik"
      }
    },
    {
      "cell_type": "code",
      "source": [
        "import requests\n",
        "import json\n",
        "\n",
        "\n",
        "# 利用 requests 對 API 來源發送一個請求\n",
        "url = '{ API 網址}'\n",
        "response = requests.get(url)\n",
        "\n",
        "# 將請求回應的內容存成一個字串格式\n",
        "d = response.text\n",
        "\n",
        "# 將長得像 json 格式的字串解析成字典或列表\n",
        "data = json.loads(d)\n",
        "\n",
        "print(data)"
      ],
      "metadata": {
        "id": "4Srh_8mj5Tm8"
      },
      "execution_count": null,
      "outputs": []
    },
    {
      "cell_type": "markdown",
      "source": [
        "以上範例中的 `data` 變數，就是我們利用 Python 抓取回來的資料並且經過解析後變成一個 Python 內建的資料結構。但是有這樣的資料之後，下一步還需要做什麼呢？這個時候就會需要仰賴你對程式語言的熟悉程度，將原始的資料整理成你想要使用的樣子。  \n",
        "\n"
      ],
      "metadata": {
        "id": "QElRtk7f5i-e"
      }
    },
    {
      "cell_type": "markdown",
      "source": [
        "除此之外，你還有利用更多的第三方套件與函式庫協助你在資料收集的項目中完成更高階的操作：\n",
        "\n",
        "\n",
        "* requests：用於向網站發送 HTTP 請求，獲取網站上的資訊。\n",
        "* BeautifulSoup：用於解析 HTML 或 XML 結構化資料，抓取所需的資料。\n",
        "* Scrapy：用於編寫網頁爬蟲框架，支持非同步網路爬蟲。\n",
        "* Selenium：用於自動化瀏覽器操作，支持 JavaScript 用於模擬操作網頁的行為解決網頁動態加載的問題。\n",
        "* pandas：用於數據處理和分析，可將爬蟲收集到的數據進行結構化處理和分析。\n",
        "\n",
        "\n",
        "\n",
        " 總體來說，使用 Python 進行資料爬蟲和資料收集是一個相對簡單而且實用的技能，可以幫助我們獲取網路上的資訊，並對這些資訊進行處理、分析和可視化，從而加速日常工作的生產力。"
      ],
      "metadata": {
        "id": "Mycsjw-z5rK3"
      }
    },
    {
      "cell_type": "markdown",
      "source": [
        "# Task #07 作業#01 口罩資料API串接"
      ],
      "metadata": {
        "id": "KuqIT4Az7dcG"
      }
    },
    {
      "cell_type": "code",
      "source": [
        "import requests\n",
        "import json\n",
        "\n",
        "url='https://raw.githubusercontent.com/kiang/pharmacies/master/json/points.json'\n",
        "response = requests.get(url)\n",
        "d=response.text\n",
        "data = json.loads(d)\n",
        "# print(data)\n",
        "\n",
        "\n",
        "# 計算各地區的藥局數量\n",
        "med_count = {}\n",
        "# 填入欄位名稱\n",
        "for d in data['features']:\n",
        "    conunty = d['properties']['county']\n",
        "    if conunty not in med_count:\n",
        "         med_count[conunty] = 1\n",
        "    else:\n",
        "        med_count[conunty] = med_count.get(conunty)+1\n",
        "print(med_count)\n",
        "\n",
        "\n",
        "# 計算出每個地區的成人剩餘口罩數量，並且將結果從大到小排列\n",
        "mask_count = {}\n",
        "\n",
        "# 填入欄位名稱\n",
        "for d in data['features']:\n",
        "    conunty = d['properties']['county']\n",
        "    number = d['properties']['mask_adult']\n",
        "    if conunty not in mask_count:\n",
        "         mask_count[conunty] = number\n",
        "    else:\n",
        "        mask_count[conunty] = mask_count.get(conunty)+number\n",
        "\n",
        "# 將結果從大到小排列\n",
        "mask_count = dict(sorted(mask_count.items(), key=lambda item: item[1],reverse=True))\n",
        "\n",
        "print(mask_count)\n"
      ],
      "metadata": {
        "colab": {
          "base_uri": "https://localhost:8080/"
        },
        "id": "mwQyjoQ57qJG",
        "outputId": "323f0f15-847b-4b60-f48e-74f2a89e0fcf"
      },
      "execution_count": null,
      "outputs": [
        {
          "output_type": "stream",
          "name": "stdout",
          "text": [
            "{'臺北市': 339, '': 49, '高雄市': 422, '臺中市': 420, '臺南市': 271, '基隆市': 57, '新竹市': 39, '嘉義市': 67, '新北市': 501, '桃園市': 264, '新竹縣': 46, '宜蘭縣': 76, '苗栗縣': 56, '彰化縣': 179, '南投縣': 67, '雲林縣': 129, '嘉義縣': 84, '屏東縣': 140, '澎湖縣': 11, '花蓮縣': 46, '臺東縣': 23, '金門縣': 6, '連江縣': 1}\n",
            "{'新北市': 670270, '臺中市': 536710, '高雄市': 424170, '臺南市': 393900, '桃園市': 331940, '臺北市': 322490, '彰化縣': 219400, '雲林縣': 196990, '屏東縣': 184250, '苗栗縣': 131080, '嘉義縣': 113180, '嘉義市': 107840, '宜蘭縣': 106900, '南投縣': 91240, '基隆市': 80100, '': 69210, '花蓮縣': 57330, '新竹縣': 51350, '新竹市': 45630, '臺東縣': 28510, '金門縣': 15510, '澎湖縣': 12600, '連江縣': 7930}\n"
          ]
        }
      ]
    },
    {
      "cell_type": "markdown",
      "source": [
        "# Task#08 作業01 將資料存入資料庫"
      ],
      "metadata": {
        "id": "F6kdesh5IR9S"
      }
    },
    {
      "cell_type": "code",
      "source": [
        "import requests\n",
        "import json\n",
        "import sqlite3\n",
        "import datetime\n",
        "\n",
        "\n",
        "conn = sqlite3.connect('example.db')\n",
        "c = conn.cursor()\n",
        "\n",
        "# 新增且清空資料表\n",
        "c.execute('''CREATE TABLE IF NOT EXISTS pharmacies\n",
        "             (city text, counts text, createdAt datetime)''')\n",
        "c.execute('''DELETE FROM pharmacies''')\n",
        "conn.commit()\n",
        "\n",
        "# 新增資料\n",
        "url='https://raw.githubusercontent.com/kiang/pharmacies/master/json/points.json'\n",
        "response = requests.get(url)\n",
        "d=response.text\n",
        "data = json.loads(d)\n",
        "\n",
        "# 計算各地區的藥局數量\n",
        "med_count = {}\n",
        "# 填入欄位名稱\n",
        "for d in data['features']:\n",
        "    conunty = d['properties']['county']\n",
        "    if conunty not in med_count:\n",
        "         med_count[conunty] = 1\n",
        "    else:\n",
        "        med_count[conunty] = med_count.get(conunty)+1\n",
        "\n",
        "\n",
        "for key,value in med_count.items():\n",
        "  city = key\n",
        "  counts = value\n",
        "  t = datetime.datetime.now()\n",
        "  print(f\"INSERT INTO stocks VALUES ('{city}', {counts}, '{t}')\")\n",
        "  c.execute(f\"INSERT INTO pharmacies VALUES ('{city}', {counts}, '{t}')\")\n",
        "  conn.commit()\n",
        "\n",
        "# 查詢資料\n",
        "c.execute(\"SELECT * FROM pharmacies\")\n",
        "print(c.fetchall())\n",
        "\n",
        "conn.commit()\n",
        "conn.close()"
      ],
      "metadata": {
        "colab": {
          "base_uri": "https://localhost:8080/"
        },
        "id": "fAwxNttyKRtE",
        "outputId": "e192a915-e112-40a2-e3d7-a8f0ce6a2150"
      },
      "execution_count": 2,
      "outputs": [
        {
          "output_type": "stream",
          "name": "stdout",
          "text": [
            "INSERT INTO stocks VALUES ('臺北市', 339, '2024-04-07 15:42:45.879295')\n",
            "INSERT INTO stocks VALUES ('', 49, '2024-04-07 15:42:45.891816')\n",
            "INSERT INTO stocks VALUES ('高雄市', 422, '2024-04-07 15:42:45.901848')\n",
            "INSERT INTO stocks VALUES ('臺中市', 420, '2024-04-07 15:42:45.912907')\n",
            "INSERT INTO stocks VALUES ('臺南市', 271, '2024-04-07 15:42:45.923070')\n",
            "INSERT INTO stocks VALUES ('基隆市', 57, '2024-04-07 15:42:45.932519')\n",
            "INSERT INTO stocks VALUES ('新竹市', 39, '2024-04-07 15:42:45.941786')\n",
            "INSERT INTO stocks VALUES ('嘉義市', 67, '2024-04-07 15:42:45.951054')\n",
            "INSERT INTO stocks VALUES ('新北市', 501, '2024-04-07 15:42:45.960198')\n",
            "INSERT INTO stocks VALUES ('桃園市', 264, '2024-04-07 15:42:45.969301')\n",
            "INSERT INTO stocks VALUES ('新竹縣', 46, '2024-04-07 15:42:45.980168')\n",
            "INSERT INTO stocks VALUES ('宜蘭縣', 76, '2024-04-07 15:42:45.989875')\n",
            "INSERT INTO stocks VALUES ('苗栗縣', 56, '2024-04-07 15:42:45.999717')\n",
            "INSERT INTO stocks VALUES ('彰化縣', 179, '2024-04-07 15:42:46.008363')\n",
            "INSERT INTO stocks VALUES ('南投縣', 67, '2024-04-07 15:42:46.016786')\n",
            "INSERT INTO stocks VALUES ('雲林縣', 129, '2024-04-07 15:42:46.026832')\n",
            "INSERT INTO stocks VALUES ('嘉義縣', 84, '2024-04-07 15:42:46.035558')\n",
            "INSERT INTO stocks VALUES ('屏東縣', 140, '2024-04-07 15:42:46.044531')\n",
            "INSERT INTO stocks VALUES ('澎湖縣', 11, '2024-04-07 15:42:46.054066')\n",
            "INSERT INTO stocks VALUES ('花蓮縣', 46, '2024-04-07 15:42:46.063336')\n",
            "INSERT INTO stocks VALUES ('臺東縣', 23, '2024-04-07 15:42:46.073443')\n",
            "INSERT INTO stocks VALUES ('金門縣', 6, '2024-04-07 15:42:46.084540')\n",
            "INSERT INTO stocks VALUES ('連江縣', 1, '2024-04-07 15:42:46.095434')\n",
            "[('臺北市', '339', '2024-04-07 15:42:45.879295'), ('', '49', '2024-04-07 15:42:45.891816'), ('高雄市', '422', '2024-04-07 15:42:45.901848'), ('臺中市', '420', '2024-04-07 15:42:45.912907'), ('臺南市', '271', '2024-04-07 15:42:45.923070'), ('基隆市', '57', '2024-04-07 15:42:45.932519'), ('新竹市', '39', '2024-04-07 15:42:45.941786'), ('嘉義市', '67', '2024-04-07 15:42:45.951054'), ('新北市', '501', '2024-04-07 15:42:45.960198'), ('桃園市', '264', '2024-04-07 15:42:45.969301'), ('新竹縣', '46', '2024-04-07 15:42:45.980168'), ('宜蘭縣', '76', '2024-04-07 15:42:45.989875'), ('苗栗縣', '56', '2024-04-07 15:42:45.999717'), ('彰化縣', '179', '2024-04-07 15:42:46.008363'), ('南投縣', '67', '2024-04-07 15:42:46.016786'), ('雲林縣', '129', '2024-04-07 15:42:46.026832'), ('嘉義縣', '84', '2024-04-07 15:42:46.035558'), ('屏東縣', '140', '2024-04-07 15:42:46.044531'), ('澎湖縣', '11', '2024-04-07 15:42:46.054066'), ('花蓮縣', '46', '2024-04-07 15:42:46.063336'), ('臺東縣', '23', '2024-04-07 15:42:46.073443'), ('金門縣', '6', '2024-04-07 15:42:46.084540'), ('連江縣', '1', '2024-04-07 15:42:46.095434')]\n"
          ]
        }
      ]
    }
  ]
}