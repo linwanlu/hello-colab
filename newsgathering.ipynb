{
  "nbformat": 4,
  "nbformat_minor": 0,
  "metadata": {
    "colab": {
      "provenance": [],
      "authorship_tag": "ABX9TyO3cIR0Fc5gvvoPM0BF0h9W",
      "include_colab_link": true
    },
    "kernelspec": {
      "name": "python3",
      "display_name": "Python 3"
    },
    "language_info": {
      "name": "python"
    }
  },
  "cells": [
    {
      "cell_type": "markdown",
      "metadata": {
        "id": "view-in-github",
        "colab_type": "text"
      },
      "source": [
        "<a href=\"https://colab.research.google.com/github/linwanlu/hello-colab/blob/main/newsgathering.ipynb\" target=\"_parent\"><img src=\"https://colab.research.google.com/assets/colab-badge.svg\" alt=\"Open In Colab\"/></a>"
      ]
    },
    {
      "cell_type": "markdown",
      "source": [
        "第一個步驟請利用 聯合新聞網 作為主要的文本來源，將範例收集回來的新聞內文存在一個 List 容器變數 `news` 內。"
      ],
      "metadata": {
        "id": "1rPFzMDg0ucD"
      }
    },
    {
      "cell_type": "code",
      "source": [
        "import requests\n",
        "from bs4 import BeautifulSoup\n",
        "\n",
        "# 利用 requests 對 API 來源發送一個請求\n",
        "response = requests.get('https://udn.com/news/breaknews/1')\n",
        "soup = BeautifulSoup(response.text)\n",
        "\n",
        "'''\n",
        "Your Code # 定義變數名稱\n",
        "'''\n",
        "for link in soup.find_all('h3', class_='rounded-thumb__title')[:4]:\n",
        "  news_url = link.a['href']\n",
        "  news_response = requests.get('https://udn.com' + news_url)\n",
        "  news_soup = BeautifulSoup(news_response.text)\n",
        "  news_content = news_soup.find('div', class_='article-content__paragraph').text.strip().replace('\\n', ' ')\n",
        "  print(news_content)"
      ],
      "metadata": {
        "colab": {
          "base_uri": "https://localhost:8080/"
        },
        "id": "2dkp6nAS1xET",
        "outputId": "a3862217-dea7-4bdf-81fc-2103223585fb"
      },
      "execution_count": 2,
      "outputs": [
        {
          "output_type": "stream",
          "name": "stdout",
          "text": [
            " 傅崐萁嗆，今天正是要告訴民進黨團總召柯建銘，柯昨天又發動了甲動，今天就來正面對決，不會容忍民進黨用這種粗暴的方式，不會容忍過去8年一以貫之的獨裁行為繼續發展下去。國民黨跟在野黨會強力團結起來，對抗鴨霸的執政黨。該過的案子過，該解凍的案子解凍，讓這些案子能到委員會去，一案一案的審查，回覆民意期待。今天國民黨甲動，正是面對這周二柯建銘粗暴的對待，今天要正式展現實力。       內閣 國民黨 民進黨 立法院 賴清德 軍公教 韓國瑜\n",
            " 小野在2018年民眾黨主席柯文哲競選連任台北市長時，曾經擔任柯文哲競選辦公室總幹事，當時小野也拍攝影片表態支持民進黨高雄市長候選人陳其邁。文化界人士推測，應是由準副閣揆鄭麗君推薦。但據了解小野出線與鄭無關。  準行政院長卓榮泰(中)上午與第二波新內閣成員亮相，教育部長由中山大學校長鄭英耀(左起)出任、交通部長由行政院秘書長李孟諺轉任、準秘書長龔明鑫、內政部長由前立委劉世芳接任、法務部長為現任台北地檢署檢察長鄭銘謙、文化部長由知名作家小野（李遠）出任。記者黃義書/攝影 準行政院長卓榮泰(中)上午與第二波新內閣成員亮相，教育部長由山大學校長鄭英耀(左起)出任、交通部長由行政院秘書長李孟諺轉任、準秘書長龔明鑫、內政部長由前立委劉世芳接任、法務部長為現任台北地檢署檢察長鄭銘謙、文化部長由知名作家小野（李遠）出任。記者黃義書/攝影        內閣 劉世芳 卓榮泰 小野 文化部 李孟諺 賴清德 鄭英耀 鄭銘謙\n",
            " 但李男日前曾向妻子透露「辦案壓力大」，昨晚傳訊妻子提及「我愛你，抱歉要離開你了」等，妻子發覺異狀，但又聯繫不上李男，外出尋人後，發現李男已在宿舍墜樓。  ★珍惜生命，若您或身邊的人有心理困擾，可撥打安心專線：1925｜生命線協談專線：1995｜張老師專線：1980  士林地院民事法庭、法官宿舍。記者李隆揆／攝影     宿舍\n",
            " 至於有外界質疑性犯罪網站「創意私房」封鎖網域速度太慢，唐鳳表示，10日晚間6時30分收到衛福部相關公文，馬上就在6時31分執行停止解析網域，應沒有執行太慢的問題。      內閣 卓榮泰 唐鳳 記者會 賴清德\n"
          ]
        }
      ]
    }
  ]
}